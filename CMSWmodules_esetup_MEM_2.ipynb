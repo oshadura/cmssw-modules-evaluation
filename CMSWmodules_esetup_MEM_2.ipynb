{
 "cells": [
  {
   "cell_type": "code",
   "execution_count": 2,
   "metadata": {},
   "outputs": [],
   "source": [
    "import numpy as np\n",
    "import matplotlib.pyplot as plt\n",
    "%matplotlib inline\n"
   ]
  },
  {
   "cell_type": "code",
   "execution_count": 8,
   "metadata": {},
   "outputs": [],
   "source": [
    "# Enter raw data (250399.17_FS_PREMIXUP17_PU50+FS_PREMIXUP17_PU50)\n",
    "root = np.array([5178.75 , 5045.31 , 5025.31, 5561.23, 5545.23,5291.23, 5714.73, 5183.24])\n",
    "cmssw = np.array([5696.29 , 5818.41 , 5781.78, 5786.29, 5774.29 ])"
   ]
  },
  {
   "cell_type": "code",
   "execution_count": 9,
   "metadata": {},
   "outputs": [],
   "source": [
    "# Calculate the average\n",
    "root_mean = np.mean(root)\n",
    "cmssw_mean = np.mean(cmssw)"
   ]
  },
  {
   "cell_type": "code",
   "execution_count": 10,
   "metadata": {},
   "outputs": [],
   "source": [
    "# Calculate the standard deviation\n",
    "root_std = np.std(root)\n",
    "cmssw_std = np.std(cmssw)"
   ]
  },
  {
   "cell_type": "code",
   "execution_count": 11,
   "metadata": {},
   "outputs": [],
   "source": [
    "# Create lists for the plot\n",
    "build = ['ROOT master', 'CMSSW PCMs']\n",
    "x_pos = np.arange(len(build))\n",
    "rts = [root_mean, cmssw_mean]\n",
    "error = [root_std, cmssw_std]"
   ]
  },
  {
   "cell_type": "code",
   "execution_count": 12,
   "metadata": {},
   "outputs": [
    {
     "data": {
      "image/png": "[encoded data removed]",
      "text/plain": [
       "<Figure size 432x288 with 1 Axes>"
      ]
     },
     "metadata": {
      "needs_background": "light"
     },
     "output_type": "display_data"
    }
   ],
   "source": [
    "# Build the plot\n",
    "fig, ax = plt.subplots()\n",
    "ax.bar(x_pos, rts, yerr=error, align='center', alpha=0.5, ecolor='black', capsize=10)\n",
    "ax.set_ylabel('Virtual memory measurements, MB')\n",
    "ax.set_xticks(x_pos)\n",
    "ax.set_xticklabels(build)\n",
    "ax.set_title('Total virtual memory for TTbar test, MB')\n",
    "ax.yaxis.grid(True)\n",
    "\n",
    "# Save the figure and show\n",
    "plt.tight_layout()\n",
    "plt.savefig('fastSIM_MEM_2.png')\n",
    "plt.show()"
   ]
  },
  {
   "cell_type": "code",
   "execution_count": null,
   "metadata": {},
   "outputs": [],
   "source": []
  },
  {
   "cell_type": "code",
   "execution_count": null,
   "metadata": {},
   "outputs": [],
   "source": []
  }
 ],
 "metadata": {
  "kernelspec": {
   "display_name": "Python 3",
   "language": "python",
   "name": "python3"
  },
  "language_info": {
   "codemirror_mode": {
    "name": "ipython",
    "version": 3
   },
   "file_extension": ".py",
   "mimetype": "text/x-python",
   "name": "python",
   "nbconvert_exporter": "python",
   "pygments_lexer": "ipython3",
   "version": "3.7.3"
  }
 },
 "nbformat": 4,
 "nbformat_minor": 2
}
